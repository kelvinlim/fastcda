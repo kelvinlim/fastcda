{
 "cells": [
  {
   "cell_type": "markdown",
   "id": "1aa3bceb",
   "metadata": {},
   "source": [
    "Test the ability to specify a tetrad jar file path\n",
    "\n",
    "Be sure to restart since with jpype, JVM can't be shutdown and restated\n",
    "in the same process."
   ]
  },
  {
   "cell_type": "code",
   "execution_count": 1,
   "id": "3bfceefe",
   "metadata": {},
   "outputs": [],
   "source": [
    "from fastcda import FastCDA\n",
    "from dgraph_flex import DgraphFlex\n",
    "import semopy\n",
    "import pprint as pp\n",
    "\n",
    "# tetrad_jar_path is path to the Tetrad jar file. If set\n",
    "# to None, the default Tetrad jar file that is in the package resource is \n",
    "# used.\n",
    "#tetrad_jar_path = None\n",
    "tetrad_jar_path = \"/home/kolim/Projects/causal-bin/tetrad-gui-7.6.5-launch.jar\""
   ]
  },
  {
   "cell_type": "code",
   "execution_count": 2,
   "id": "c42b1291",
   "metadata": {},
   "outputs": [
    {
     "data": {
      "text/plain": [
       "'7.6.5-0'"
      ]
     },
     "execution_count": 2,
     "metadata": {},
     "output_type": "execute_result"
    }
   ],
   "source": [
    "# create an instance of FastCDA\n",
    "if tetrad_jar_path == None:\n",
    "    fc = FastCDA()\n",
    "else:\n",
    "    fc = FastCDA(tetrad_jar_path=tetrad_jar_path)\n",
    "\n",
    "# get the version\n",
    "fc.getTetradVersion()\n",
    "\n",
    "\n"
   ]
  }
 ],
 "metadata": {
  "kernelspec": {
   "display_name": ".venv",
   "language": "python",
   "name": "python3"
  },
  "language_info": {
   "codemirror_mode": {
    "name": "ipython",
    "version": 3
   },
   "file_extension": ".py",
   "mimetype": "text/x-python",
   "name": "python",
   "nbconvert_exporter": "python",
   "pygments_lexer": "ipython3",
   "version": "3.12.3"
  }
 },
 "nbformat": 4,
 "nbformat_minor": 5
}
